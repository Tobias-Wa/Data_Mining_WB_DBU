{
 "cells": [
  {
   "cell_type": "code",
   "execution_count": null,
   "metadata": {},
   "outputs": [
    {
     "name": "stdout",
     "output_type": "stream",
     "text": [
      "<bound method NDFrame.head of          Sample_ID                  Species Tissue_Type      Cell_Type  \\\n",
      "0         Sample_1  Drosophila melanogaster       Heart     Fibroblast   \n",
      "1         Sample_2   Caenorhabditis elegans       Heart     Fibroblast   \n",
      "2         Sample_3             Homo sapiens        Lung         Neuron   \n",
      "3         Sample_4  Drosophila melanogaster       Heart     Epithelial   \n",
      "4         Sample_5  Drosophila melanogaster      Kidney         Neuron   \n",
      "...            ...                      ...         ...            ...   \n",
      "9995   Sample_9996   Caenorhabditis elegans        Lung         Neuron   \n",
      "9996   Sample_9997  Drosophila melanogaster        Lung     Fibroblast   \n",
      "9997   Sample_9998             Mus musculus       Brain         Neuron   \n",
      "9998   Sample_9999             Mus musculus       Brain  Hematopoietic   \n",
      "9999  Sample_10000             Homo sapiens       Brain  Hematopoietic   \n",
      "\n",
      "      Gene_Expression_Level  Protein_Concentration  Mutation_Presence  Age  \\\n",
      "0                      1.20                  24.07                  0   37   \n",
      "1                     88.52                 393.48                  0   20   \n",
      "2                     13.96                 277.80                  0   76   \n",
      "3                     66.36                 362.40                  0   69   \n",
      "4                     77.55                  63.04                  0   42   \n",
      "...                     ...                    ...                ...  ...   \n",
      "9995                  19.73                 432.30                  0   65   \n",
      "9996                  64.89                 240.80                  1   52   \n",
      "9997                  39.37                  25.52                  0   67   \n",
      "9998                  68.11                 451.85                  0   34   \n",
      "9999                  49.61                 258.51                  1   56   \n",
      "\n",
      "      Weight  Height Gene_Focus  \n",
      "0      60.96  190.61    Gene_10  \n",
      "1      90.39  195.24    Gene_12  \n",
      "2      90.53  187.28    Gene_74  \n",
      "3      66.50  162.22    Gene_12  \n",
      "4      73.06  185.12     Gene_5  \n",
      "...      ...     ...        ...  \n",
      "9995   54.54  172.71    Gene_78  \n",
      "9996   58.48  173.23    Gene_26  \n",
      "9997   52.72  187.27    Gene_61  \n",
      "9998   70.83  156.31    Gene_65  \n",
      "9999   91.07  176.56    Gene_93  \n",
      "\n",
      "[10000 rows x 11 columns]>\n"
     ]
    }
   ],
   "source": [
    "import pandas as pd\n",
    "import numpy as np\n",
    "\n",
    "# Set random seed for reproducibility\n",
    "np.random.seed(42)\n",
    "\n",
    "# Generate synthetic biological dataset\n",
    "num_samples = 10000\n",
    "\n",
    "# Define possible categories for categorical columns\n",
    "species = ['Homo sapiens', 'Mus musculus', 'Drosophila melanogaster', 'Caenorhabditis elegans']\n",
    "tissue_types = ['Liver', 'Brain', 'Heart', 'Lung', 'Kidney']\n",
    "cell_types = ['Neuron', 'Epithelial', 'Fibroblast', 'Endothelial', 'Hematopoietic']\n",
    "gene_names = [f'Gene_{i}' for i in range(1, 101)]  # 100 gene names\n",
    "\n",
    "# Create columns\n",
    "data = {\n",
    "    'Sample_ID': [f'Sample_{i+1}' for i in range(num_samples)],\n",
    "    'Species': np.random.choice(species, num_samples),\n",
    "    'Tissue_Type': np.random.choice(tissue_types, num_samples),\n",
    "    'Cell_Type': np.random.choice(cell_types, num_samples),\n",
    "    'Gene_Expression_Level': np.round(np.random.uniform(0, 100, num_samples), 2),\n",
    "    'Protein_Concentration': np.round(np.random.uniform(0, 500, num_samples), 2),\n",
    "    'Mutation_Presence': np.random.choice([0, 1], num_samples, p=[0.9, 0.1]),\n",
    "    'Age': np.random.randint(20, 80, num_samples),\n",
    "    'Weight': np.round(np.random.uniform(50, 100, num_samples), 2),\n",
    "    'Height': np.round(np.random.uniform(150, 200, num_samples), 2),\n",
    "    'Gene_Focus': np.random.choice(gene_names, num_samples)\n",
    "}\n",
    "\n",
    "# Create DataFrame\n",
    "df = pd.DataFrame(data)\n",
    "\n",
    "print(df.head)\n",
    "\n",
    "\n"
   ]
  }
 ],
 "metadata": {
  "kernelspec": {
   "display_name": "Python 3",
   "language": "python",
   "name": "python3"
  },
  "language_info": {
   "codemirror_mode": {
    "name": "ipython",
    "version": 3
   },
   "file_extension": ".py",
   "mimetype": "text/x-python",
   "name": "python",
   "nbconvert_exporter": "python",
   "pygments_lexer": "ipython3",
   "version": "3.13.1"
  }
 },
 "nbformat": 4,
 "nbformat_minor": 2
}
